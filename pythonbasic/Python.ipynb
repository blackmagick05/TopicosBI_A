{
 "cells": [
  {
   "cell_type": "markdown",
   "id": "fcf22c6e",
   "metadata": {},
   "source": [
    "# Python for big data\n",
    "\n",
    "1. Variebles\n",
    "2. String\n",
    "3. Fuction print\n",
    "4. Booleanos y Condicionales\n",
    "5. Loops\n",
    "6. Funciones\n",
    "7. Manejo de exepciones"
   ]
  },
  {
   "cell_type": "markdown",
   "id": "84208859",
   "metadata": {},
   "source": [
    "# 1.Variables\n"
   ]
  },
  {
   "cell_type": "code",
   "execution_count": 1,
   "id": "465398da",
   "metadata": {},
   "outputs": [
    {
     "ename": "NameError",
     "evalue": "name 'resultado' is not defined",
     "output_type": "error",
     "traceback": [
      "\u001b[31m---------------------------------------------------------------------------\u001b[39m",
      "\u001b[31mNameError\u001b[39m                                 Traceback (most recent call last)",
      "\u001b[36mCell\u001b[39m\u001b[36m \u001b[39m\u001b[32mIn[1]\u001b[39m\u001b[32m, line 2\u001b[39m\n\u001b[32m      1\u001b[39m \u001b[38;5;66;03m# variables \u001b[39;00m\n\u001b[32m----> \u001b[39m\u001b[32m2\u001b[39m \u001b[43mresultado\u001b[49m\n",
      "\u001b[31mNameError\u001b[39m: name 'resultado' is not defined"
     ]
    }
   ],
   "source": [
    "# variables \n",
    "resultado"
   ]
  },
  {
   "cell_type": "code",
   "execution_count": 3,
   "id": "dc9763d6",
   "metadata": {},
   "outputs": [],
   "source": [
    "#Declarando variable\n",
    "monto_deuda=1000\n",
    "moneda=\"soles\""
   ]
  },
  {
   "cell_type": "code",
   "execution_count": 4,
   "id": "29e4e92e",
   "metadata": {},
   "outputs": [
    {
     "data": {
      "text/plain": [
       "1000"
      ]
     },
     "execution_count": 4,
     "metadata": {},
     "output_type": "execute_result"
    }
   ],
   "source": [
    "#Mostrar variables\n",
    "monto_deuda"
   ]
  },
  {
   "cell_type": "code",
   "execution_count": null,
   "id": "bcd87dda",
   "metadata": {},
   "outputs": [
    {
     "data": {
      "text/plain": [
       "'soles'"
      ]
     },
     "execution_count": 4,
     "metadata": {},
     "output_type": "execute_result"
    }
   ],
   "source": [
    "moneda"
   ]
  },
  {
   "cell_type": "code",
   "execution_count": null,
   "id": "7136b200",
   "metadata": {},
   "outputs": [],
   "source": [
    "#Interactuar con el usuario\n",
    "monto_interes= int(input(\"Ingrese el monto del interes: \"))"
   ]
  },
  {
   "cell_type": "code",
   "execution_count": 5,
   "id": "d5aaac62",
   "metadata": {},
   "outputs": [
    {
     "data": {
      "text/plain": [
       "4000"
      ]
     },
     "execution_count": 5,
     "metadata": {},
     "output_type": "execute_result"
    }
   ],
   "source": [
    "#operando con variables\n",
    "resultado = monto_deuda*4\n",
    "resultado"
   ]
  },
  {
   "cell_type": "code",
   "execution_count": 7,
   "id": "1f18e2c4",
   "metadata": {},
   "outputs": [
    {
     "data": {
      "text/plain": [
       "int"
      ]
     },
     "execution_count": 7,
     "metadata": {},
     "output_type": "execute_result"
    }
   ],
   "source": [
    "# Tipo de variables\n",
    "type(monto_deuda)\n",
    "type(moneda)\n",
    "type(resultado)"
   ]
  },
  {
   "cell_type": "code",
   "execution_count": 8,
   "id": "30d1113f",
   "metadata": {},
   "outputs": [
    {
     "data": {
      "text/plain": [
       "16000"
      ]
     },
     "execution_count": 8,
     "metadata": {},
     "output_type": "execute_result"
    }
   ],
   "source": [
    "#Operar variables\n",
    "4*resultado"
   ]
  },
  {
   "cell_type": "code",
   "execution_count": 10,
   "id": "98cc14d7",
   "metadata": {},
   "outputs": [
    {
     "data": {
      "text/plain": [
       "'1000'"
      ]
     },
     "execution_count": 10,
     "metadata": {},
     "output_type": "execute_result"
    }
   ],
   "source": [
    "# Cambiando el tipo de variable\n",
    "str_monto_deuda= str(monto_deuda)\n",
    "str_monto_deuda"
   ]
  },
  {
   "cell_type": "code",
   "execution_count": 12,
   "id": "ebd1b6c8",
   "metadata": {},
   "outputs": [
    {
     "data": {
      "text/plain": [
       "1000"
      ]
     },
     "execution_count": 12,
     "metadata": {},
     "output_type": "execute_result"
    }
   ],
   "source": [
    "int_monto_deuda= int(str_monto_deuda)\n",
    "int_monto_deuda"
   ]
  },
  {
   "cell_type": "markdown",
   "id": "6e75ad31",
   "metadata": {},
   "source": [
    "# 2. String"
   ]
  },
  {
   "cell_type": "code",
   "execution_count": 13,
   "id": "d9b29769",
   "metadata": {},
   "outputs": [
    {
     "data": {
      "text/plain": [
       "'Hola'"
      ]
     },
     "execution_count": 13,
     "metadata": {},
     "output_type": "execute_result"
    }
   ],
   "source": [
    "#Concatenar\n",
    "\"Ho\" + \"la\""
   ]
  },
  {
   "cell_type": "code",
   "execution_count": 14,
   "id": "1514cbb4",
   "metadata": {},
   "outputs": [],
   "source": [
    "#Uso de comillas simples o dobles\n",
    "text_1= \"Mi primer mensaje\"\n",
    "text_2= 'Mi segundo mensaje'"
   ]
  },
  {
   "cell_type": "code",
   "execution_count": 15,
   "id": "eee3cbeb",
   "metadata": {},
   "outputs": [
    {
     "data": {
      "text/plain": [
       "'Mi primer mensaje'"
      ]
     },
     "execution_count": 15,
     "metadata": {},
     "output_type": "execute_result"
    }
   ],
   "source": [
    "text_1"
   ]
  },
  {
   "cell_type": "code",
   "execution_count": 16,
   "id": "07247d0f",
   "metadata": {},
   "outputs": [
    {
     "data": {
      "text/plain": [
       "'Mi segundo mensaje'"
      ]
     },
     "execution_count": 16,
     "metadata": {},
     "output_type": "execute_result"
    }
   ],
   "source": [
    "text_2"
   ]
  },
  {
   "cell_type": "code",
   "execution_count": 17,
   "id": "26c1c3d4",
   "metadata": {},
   "outputs": [],
   "source": [
    "#Comillas triples\n",
    "consulta= \"\"\"\n",
    "select* from users\n",
    "where id =8\n",
    "group by admin\n",
    "\"\"\""
   ]
  },
  {
   "cell_type": "code",
   "execution_count": 18,
   "id": "79f5c4f8",
   "metadata": {},
   "outputs": [
    {
     "data": {
      "text/plain": [
       "'\\nselect* from users\\nwhere id =8\\ngroup by admin\\n'"
      ]
     },
     "execution_count": 18,
     "metadata": {},
     "output_type": "execute_result"
    }
   ],
   "source": [
    "consulta"
   ]
  },
  {
   "cell_type": "code",
   "execution_count": 20,
   "id": "5c610a7e",
   "metadata": {},
   "outputs": [],
   "source": [
    "# Operaciones con string\n",
    "cadena1 = \"hola mundo\"\n",
    "cadena2 = \"5\"\n",
    "cadena3 =  \"cinco\""
   ]
  },
  {
   "cell_type": "code",
   "execution_count": 21,
   "id": "98b9e684",
   "metadata": {},
   "outputs": [
    {
     "data": {
      "text/plain": [
       "'Hola mundo'"
      ]
     },
     "execution_count": 21,
     "metadata": {},
     "output_type": "execute_result"
    }
   ],
   "source": [
    "cadena1.capitalize()"
   ]
  },
  {
   "cell_type": "code",
   "execution_count": 22,
   "id": "5e247db9",
   "metadata": {},
   "outputs": [
    {
     "data": {
      "text/plain": [
       "'CINCO'"
      ]
     },
     "execution_count": 22,
     "metadata": {},
     "output_type": "execute_result"
    }
   ],
   "source": [
    "cadena3.upper()"
   ]
  },
  {
   "cell_type": "code",
   "execution_count": 24,
   "id": "c2e7dbaf",
   "metadata": {},
   "outputs": [
    {
     "data": {
      "text/plain": [
       "'cinco'"
      ]
     },
     "execution_count": 24,
     "metadata": {},
     "output_type": "execute_result"
    }
   ],
   "source": [
    "cadena3.lower()"
   ]
  },
  {
   "cell_type": "code",
   "execution_count": 25,
   "id": "7b1f7caf",
   "metadata": {},
   "outputs": [
    {
     "data": {
      "text/plain": [
       "'Hola Mundo'"
      ]
     },
     "execution_count": 25,
     "metadata": {},
     "output_type": "execute_result"
    }
   ],
   "source": [
    "cadena1.title()"
   ]
  },
  {
   "cell_type": "code",
   "execution_count": 28,
   "id": "3b3ce883",
   "metadata": {},
   "outputs": [
    {
     "data": {
      "text/plain": [
       "['hola', 'mundo']"
      ]
     },
     "execution_count": 28,
     "metadata": {},
     "output_type": "execute_result"
    }
   ],
   "source": [
    " cadena1.split()"
   ]
  },
  {
   "cell_type": "code",
   "execution_count": 29,
   "id": "1db98ec7",
   "metadata": {},
   "outputs": [
    {
     "data": {
      "text/plain": [
       "2"
      ]
     },
     "execution_count": 29,
     "metadata": {},
     "output_type": "execute_result"
    }
   ],
   "source": [
    "cadena1.count(\"o\")"
   ]
  },
  {
   "cell_type": "code",
   "execution_count": null,
   "id": "4e626610",
   "metadata": {},
   "outputs": [],
   "source": [
    "#Longitud de una cadena"
   ]
  },
  {
   "cell_type": "code",
   "execution_count": 30,
   "id": "35111aa4",
   "metadata": {},
   "outputs": [
    {
     "data": {
      "text/plain": [
       "10"
      ]
     },
     "execution_count": 30,
     "metadata": {},
     "output_type": "execute_result"
    }
   ],
   "source": [
    "len(cadena1)"
   ]
  },
  {
   "cell_type": "code",
   "execution_count": 31,
   "id": "8ffb7072",
   "metadata": {},
   "outputs": [
    {
     "data": {
      "text/plain": [
       "['hola ', 'undo']"
      ]
     },
     "execution_count": 31,
     "metadata": {},
     "output_type": "execute_result"
    }
   ],
   "source": [
    "#Quitar letra string\n",
    "cadena1.split(\"m\")"
   ]
  },
  {
   "cell_type": "code",
   "execution_count": 32,
   "id": "7d6ff763",
   "metadata": {},
   "outputs": [
    {
     "data": {
      "text/plain": [
       "'(Hola mundo),'"
      ]
     },
     "execution_count": 32,
     "metadata": {},
     "output_type": "execute_result"
    }
   ],
   "source": [
    "# Limpiando extremos string\n",
    "cadena4=\"(Hola mundo), \"\n",
    "cadena4.strip()"
   ]
  },
  {
   "cell_type": "code",
   "execution_count": 33,
   "id": "f6f3d0eb",
   "metadata": {},
   "outputs": [
    {
     "data": {
      "text/plain": [
       "'Hola mundo'"
      ]
     },
     "execution_count": 33,
     "metadata": {},
     "output_type": "execute_result"
    }
   ],
   "source": [
    "cadena4.strip(\"(), \")"
   ]
  },
  {
   "cell_type": "code",
   "execution_count": 34,
   "id": "3bf99b76",
   "metadata": {},
   "outputs": [
    {
     "data": {
      "text/plain": [
       "'Hi  Mundo'"
      ]
     },
     "execution_count": 34,
     "metadata": {},
     "output_type": "execute_result"
    }
   ],
   "source": [
    "#Reemplazar string\n",
    "cadena5=\"Hola  Mundo\"\n",
    "cadena5.replace(\"Hola\", \"Hi\") "
   ]
  }
 ],
 "metadata": {
  "kernelspec": {
   "display_name": "my",
   "language": "python",
   "name": "python3"
  },
  "language_info": {
   "codemirror_mode": {
    "name": "ipython",
    "version": 3
   },
   "file_extension": ".py",
   "mimetype": "text/x-python",
   "name": "python",
   "nbconvert_exporter": "python",
   "pygments_lexer": "ipython3",
   "version": "3.13.7"
  }
 },
 "nbformat": 4,
 "nbformat_minor": 5
}
