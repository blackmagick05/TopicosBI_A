{
 "cells": [
  {
   "cell_type": "markdown",
   "id": "fcf22c6e",
   "metadata": {},
   "source": [
    "# Python for big data\n",
    "\n",
    "1. Variebles\n",
    "2. String\n",
    "3. Fuction print\n",
    "4. Booleanos y Condicionales\n",
    "5. Loops\n",
    "6. Funciones\n",
    "7. Manejo de exepciones"
   ]
  },
  {
   "cell_type": "markdown",
   "id": "84208859",
   "metadata": {},
   "source": [
    "# 1.Variables\n"
   ]
  },
  {
   "cell_type": "code",
   "execution_count": 1,
   "id": "465398da",
   "metadata": {},
   "outputs": [
    {
     "ename": "NameError",
     "evalue": "name 'resultado' is not defined",
     "output_type": "error",
     "traceback": [
      "\u001b[31m---------------------------------------------------------------------------\u001b[39m",
      "\u001b[31mNameError\u001b[39m                                 Traceback (most recent call last)",
      "\u001b[36mCell\u001b[39m\u001b[36m \u001b[39m\u001b[32mIn[1]\u001b[39m\u001b[32m, line 2\u001b[39m\n\u001b[32m      1\u001b[39m \u001b[38;5;66;03m# variables \u001b[39;00m\n\u001b[32m----> \u001b[39m\u001b[32m2\u001b[39m \u001b[43mresultado\u001b[49m\n",
      "\u001b[31mNameError\u001b[39m: name 'resultado' is not defined"
     ]
    }
   ],
   "source": [
    "# variables \n",
    "resultado"
   ]
  },
  {
   "cell_type": "code",
   "execution_count": 3,
   "id": "dc9763d6",
   "metadata": {},
   "outputs": [],
   "source": [
    "#Declarando variable\n",
    "monto_deuda=1000\n",
    "moneda=\"soles\""
   ]
  },
  {
   "cell_type": "code",
   "execution_count": 4,
   "id": "29e4e92e",
   "metadata": {},
   "outputs": [
    {
     "data": {
      "text/plain": [
       "1000"
      ]
     },
     "execution_count": 4,
     "metadata": {},
     "output_type": "execute_result"
    }
   ],
   "source": [
    "#Mostrar variables\n",
    "monto_deuda"
   ]
  },
  {
   "cell_type": "code",
   "execution_count": null,
   "id": "bcd87dda",
   "metadata": {},
   "outputs": [
    {
     "data": {
      "text/plain": [
       "'soles'"
      ]
     },
     "execution_count": 4,
     "metadata": {},
     "output_type": "execute_result"
    }
   ],
   "source": [
    "moneda"
   ]
  },
  {
   "cell_type": "code",
   "execution_count": null,
   "id": "7136b200",
   "metadata": {},
   "outputs": [],
   "source": [
    "#Interactuar con el usuario\n",
    "monto_interes= int(input(\"Ingrese el monto del interes: \"))"
   ]
  },
  {
   "cell_type": "code",
   "execution_count": 5,
   "id": "d5aaac62",
   "metadata": {},
   "outputs": [
    {
     "data": {
      "text/plain": [
       "4000"
      ]
     },
     "execution_count": 5,
     "metadata": {},
     "output_type": "execute_result"
    }
   ],
   "source": [
    "#operando con variables\n",
    "resultado = monto_deuda*4\n",
    "resultado"
   ]
  },
  {
   "cell_type": "code",
   "execution_count": 7,
   "id": "1f18e2c4",
   "metadata": {},
   "outputs": [
    {
     "data": {
      "text/plain": [
       "int"
      ]
     },
     "execution_count": 7,
     "metadata": {},
     "output_type": "execute_result"
    }
   ],
   "source": [
    "# Tipo de variables\n",
    "type(monto_deuda)\n",
    "type(moneda)\n",
    "type(resultado)"
   ]
  },
  {
   "cell_type": "code",
   "execution_count": 8,
   "id": "30d1113f",
   "metadata": {},
   "outputs": [
    {
     "data": {
      "text/plain": [
       "16000"
      ]
     },
     "execution_count": 8,
     "metadata": {},
     "output_type": "execute_result"
    }
   ],
   "source": [
    "#Operar variables\n",
    "4*resultado"
   ]
  },
  {
   "cell_type": "code",
   "execution_count": 10,
   "id": "98cc14d7",
   "metadata": {},
   "outputs": [
    {
     "data": {
      "text/plain": [
       "'1000'"
      ]
     },
     "execution_count": 10,
     "metadata": {},
     "output_type": "execute_result"
    }
   ],
   "source": [
    "# Cambiando el tipo de variable\n",
    "str_monto_deuda= str(monto_deuda)\n",
    "str_monto_deuda"
   ]
  },
  {
   "cell_type": "code",
   "execution_count": 12,
   "id": "ebd1b6c8",
   "metadata": {},
   "outputs": [
    {
     "data": {
      "text/plain": [
       "1000"
      ]
     },
     "execution_count": 12,
     "metadata": {},
     "output_type": "execute_result"
    }
   ],
   "source": [
    "int_monto_deuda= int(str_monto_deuda)\n",
    "int_monto_deuda"
   ]
  },
  {
   "cell_type": "markdown",
   "id": "6e75ad31",
   "metadata": {},
   "source": [
    "# 2. String"
   ]
  },
  {
   "cell_type": "code",
   "execution_count": 13,
   "id": "d9b29769",
   "metadata": {},
   "outputs": [
    {
     "data": {
      "text/plain": [
       "'Hola'"
      ]
     },
     "execution_count": 13,
     "metadata": {},
     "output_type": "execute_result"
    }
   ],
   "source": [
    "#Concatenar\n",
    "\"Ho\" + \"la\""
   ]
  },
  {
   "cell_type": "code",
   "execution_count": 14,
   "id": "1514cbb4",
   "metadata": {},
   "outputs": [],
   "source": [
    "#Uso de comillas simples o dobles\n",
    "text_1= \"Mi primer mensaje\"\n",
    "text_2= 'Mi segundo mensaje'"
   ]
  },
  {
   "cell_type": "code",
   "execution_count": 15,
   "id": "eee3cbeb",
   "metadata": {},
   "outputs": [
    {
     "data": {
      "text/plain": [
       "'Mi primer mensaje'"
      ]
     },
     "execution_count": 15,
     "metadata": {},
     "output_type": "execute_result"
    }
   ],
   "source": [
    "text_1"
   ]
  },
  {
   "cell_type": "code",
   "execution_count": 16,
   "id": "07247d0f",
   "metadata": {},
   "outputs": [
    {
     "data": {
      "text/plain": [
       "'Mi segundo mensaje'"
      ]
     },
     "execution_count": 16,
     "metadata": {},
     "output_type": "execute_result"
    }
   ],
   "source": [
    "text_2"
   ]
  },
  {
   "cell_type": "code",
   "execution_count": 17,
   "id": "26c1c3d4",
   "metadata": {},
   "outputs": [],
   "source": [
    "#Comillas triples\n",
    "consulta= \"\"\"\n",
    "select* from users\n",
    "where id =8\n",
    "group by admin\n",
    "\"\"\""
   ]
  },
  {
   "cell_type": "code",
   "execution_count": 18,
   "id": "79f5c4f8",
   "metadata": {},
   "outputs": [
    {
     "data": {
      "text/plain": [
       "'\\nselect* from users\\nwhere id =8\\ngroup by admin\\n'"
      ]
     },
     "execution_count": 18,
     "metadata": {},
     "output_type": "execute_result"
    }
   ],
   "source": [
    "consulta"
   ]
  },
  {
   "cell_type": "code",
   "execution_count": 20,
   "id": "5c610a7e",
   "metadata": {},
   "outputs": [],
   "source": [
    "# Operaciones con string\n",
    "cadena1 = \"hola mundo\"\n",
    "cadena2 = \"5\"\n",
    "cadena3 =  \"cinco\""
   ]
  },
  {
   "cell_type": "code",
   "execution_count": 21,
   "id": "98b9e684",
   "metadata": {},
   "outputs": [
    {
     "data": {
      "text/plain": [
       "'Hola mundo'"
      ]
     },
     "execution_count": 21,
     "metadata": {},
     "output_type": "execute_result"
    }
   ],
   "source": [
    "cadena1.capitalize()"
   ]
  },
  {
   "cell_type": "code",
   "execution_count": 22,
   "id": "5e247db9",
   "metadata": {},
   "outputs": [
    {
     "data": {
      "text/plain": [
       "'CINCO'"
      ]
     },
     "execution_count": 22,
     "metadata": {},
     "output_type": "execute_result"
    }
   ],
   "source": [
    "cadena3.upper()"
   ]
  },
  {
   "cell_type": "code",
   "execution_count": 24,
   "id": "c2e7dbaf",
   "metadata": {},
   "outputs": [
    {
     "data": {
      "text/plain": [
       "'cinco'"
      ]
     },
     "execution_count": 24,
     "metadata": {},
     "output_type": "execute_result"
    }
   ],
   "source": [
    "cadena3.lower()"
   ]
  },
  {
   "cell_type": "code",
   "execution_count": 25,
   "id": "7b1f7caf",
   "metadata": {},
   "outputs": [
    {
     "data": {
      "text/plain": [
       "'Hola Mundo'"
      ]
     },
     "execution_count": 25,
     "metadata": {},
     "output_type": "execute_result"
    }
   ],
   "source": [
    "cadena1.title()"
   ]
  },
  {
   "cell_type": "code",
   "execution_count": 28,
   "id": "3b3ce883",
   "metadata": {},
   "outputs": [
    {
     "data": {
      "text/plain": [
       "['hola', 'mundo']"
      ]
     },
     "execution_count": 28,
     "metadata": {},
     "output_type": "execute_result"
    }
   ],
   "source": [
    " cadena1.split()"
   ]
  },
  {
   "cell_type": "code",
   "execution_count": 29,
   "id": "1db98ec7",
   "metadata": {},
   "outputs": [
    {
     "data": {
      "text/plain": [
       "2"
      ]
     },
     "execution_count": 29,
     "metadata": {},
     "output_type": "execute_result"
    }
   ],
   "source": [
    "cadena1.count(\"o\")"
   ]
  },
  {
   "cell_type": "code",
   "execution_count": null,
   "id": "4e626610",
   "metadata": {},
   "outputs": [],
   "source": [
    "#Longitud de una cadena"
   ]
  },
  {
   "cell_type": "code",
   "execution_count": 30,
   "id": "35111aa4",
   "metadata": {},
   "outputs": [
    {
     "data": {
      "text/plain": [
       "10"
      ]
     },
     "execution_count": 30,
     "metadata": {},
     "output_type": "execute_result"
    }
   ],
   "source": [
    "len(cadena1)"
   ]
  },
  {
   "cell_type": "code",
   "execution_count": 31,
   "id": "8ffb7072",
   "metadata": {},
   "outputs": [
    {
     "data": {
      "text/plain": [
       "['hola ', 'undo']"
      ]
     },
     "execution_count": 31,
     "metadata": {},
     "output_type": "execute_result"
    }
   ],
   "source": [
    "#Quitar letra string\n",
    "cadena1.split(\"m\")"
   ]
  },
  {
   "cell_type": "code",
   "execution_count": 21,
   "id": "7d6ff763",
   "metadata": {},
   "outputs": [
    {
     "data": {
      "text/plain": [
       "'(Hola mundo),'"
      ]
     },
     "execution_count": 21,
     "metadata": {},
     "output_type": "execute_result"
    }
   ],
   "source": [
    "# Limpiando extremos string\n",
    "cadena4=\"(Hola mundo), \"\n",
    "cadena4.strip()"
   ]
  },
  {
   "cell_type": "code",
   "execution_count": 33,
   "id": "f6f3d0eb",
   "metadata": {},
   "outputs": [
    {
     "data": {
      "text/plain": [
       "'Hola mundo'"
      ]
     },
     "execution_count": 33,
     "metadata": {},
     "output_type": "execute_result"
    }
   ],
   "source": [
    "cadena4.strip(\"(), \")"
   ]
  },
  {
   "cell_type": "code",
   "execution_count": 10,
   "id": "3bf99b76",
   "metadata": {},
   "outputs": [
    {
     "data": {
      "text/plain": [
       "'Hi Mundo'"
      ]
     },
     "execution_count": 10,
     "metadata": {},
     "output_type": "execute_result"
    }
   ],
   "source": [
    "#Reemplazar string\n",
    "cadena5=\"Hola Mundo\"\n",
    "cadena5.replace(\"Hola\", \"Hi\") "
   ]
  },
  {
   "cell_type": "code",
   "execution_count": 11,
   "id": "df98effc",
   "metadata": {},
   "outputs": [
    {
     "data": {
      "text/plain": [
       "1"
      ]
     },
     "execution_count": 11,
     "metadata": {},
     "output_type": "execute_result"
    }
   ],
   "source": [
    "cadena5.index(\"o\")"
   ]
  },
  {
   "cell_type": "code",
   "execution_count": 12,
   "id": "17c0ae5b",
   "metadata": {},
   "outputs": [
    {
     "data": {
      "text/plain": [
       "9"
      ]
     },
     "execution_count": 12,
     "metadata": {},
     "output_type": "execute_result"
    }
   ],
   "source": [
    "cadena5.index(\"o\",6) "
   ]
  },
  {
   "cell_type": "code",
   "execution_count": 14,
   "id": "649d8f99",
   "metadata": {},
   "outputs": [
    {
     "data": {
      "text/plain": [
       "' '"
      ]
     },
     "execution_count": 14,
     "metadata": {},
     "output_type": "execute_result"
    }
   ],
   "source": [
    "cadena5[4]"
   ]
  },
  {
   "cell_type": "code",
   "execution_count": 15,
   "id": "0718d788",
   "metadata": {},
   "outputs": [
    {
     "data": {
      "text/plain": [
       "'d'"
      ]
     },
     "execution_count": 15,
     "metadata": {},
     "output_type": "execute_result"
    }
   ],
   "source": [
    "cadena5[-2]"
   ]
  },
  {
   "cell_type": "code",
   "execution_count": 18,
   "id": "260c4f1c",
   "metadata": {},
   "outputs": [
    {
     "data": {
      "text/plain": [
       "'la Mun'"
      ]
     },
     "execution_count": 18,
     "metadata": {},
     "output_type": "execute_result"
    }
   ],
   "source": [
    "cadena5[2:-2]"
   ]
  },
  {
   "cell_type": "code",
   "execution_count": 20,
   "id": "a4877151",
   "metadata": {},
   "outputs": [
    {
     "data": {
      "text/plain": [
       "'odnuM aloH'"
      ]
     },
     "execution_count": 20,
     "metadata": {},
     "output_type": "execute_result"
    }
   ],
   "source": [
    "cadena5[::-1]"
   ]
  },
  {
   "cell_type": "code",
   "execution_count": 22,
   "id": "8ff32b3c",
   "metadata": {},
   "outputs": [
    {
     "data": {
      "text/plain": [
       "['HOLA', 'MUNDO']"
      ]
     },
     "execution_count": 22,
     "metadata": {},
     "output_type": "execute_result"
    }
   ],
   "source": [
    "#Llamar una Cadena\n",
    "cadena4.strip(\"(), \").upper().split()"
   ]
  },
  {
   "cell_type": "code",
   "execution_count": 23,
   "id": "9bc217cf",
   "metadata": {},
   "outputs": [
    {
     "name": "stdout",
     "output_type": "stream",
     "text": [
      "Hola Imanol este es el curso de Topicos Especiales en Inteligencia de Negocios\n"
     ]
    }
   ],
   "source": [
    "# Python + String\n",
    "nombre=\"Imanol\"\n",
    "cruso=\"Topicos Especiales en Inteligencia de Negocios\"\n",
    "print(\"Hola\", nombre, \"este es el curso de\", cruso)"
   ]
  },
  {
   "cell_type": "code",
   "execution_count": 24,
   "id": "fbf115a9",
   "metadata": {},
   "outputs": [],
   "source": [
    "string = \"Hola Mundo\"\n",
    "string1=\"5\"\n",
    "string2 =\"cinco\""
   ]
  },
  {
   "cell_type": "code",
   "execution_count": 25,
   "id": "e94f55e5",
   "metadata": {},
   "outputs": [
    {
     "data": {
      "text/plain": [
       "True"
      ]
     },
     "execution_count": 25,
     "metadata": {},
     "output_type": "execute_result"
    }
   ],
   "source": [
    "string1.isdigit()"
   ]
  },
  {
   "cell_type": "code",
   "execution_count": 26,
   "id": "055b52c4",
   "metadata": {},
   "outputs": [
    {
     "data": {
      "text/plain": [
       "False"
      ]
     },
     "execution_count": 26,
     "metadata": {},
     "output_type": "execute_result"
    }
   ],
   "source": [
    "string.isdigit()"
   ]
  },
  {
   "cell_type": "code",
   "execution_count": 27,
   "id": "0a0f0257",
   "metadata": {},
   "outputs": [
    {
     "data": {
      "text/plain": [
       "True"
      ]
     },
     "execution_count": 27,
     "metadata": {},
     "output_type": "execute_result"
    }
   ],
   "source": [
    "string2.isalpha()"
   ]
  },
  {
   "cell_type": "code",
   "execution_count": 28,
   "id": "4ae84af9",
   "metadata": {},
   "outputs": [
    {
     "data": {
      "text/plain": [
       "'abcdefghijklmnopqrstuvwxyzABCDEFGHIJKLMNOPQRSTUVWXYZ'"
      ]
     },
     "execution_count": 28,
     "metadata": {},
     "output_type": "execute_result"
    }
   ],
   "source": [
    "import string\n",
    "string.ascii_letters"
   ]
  },
  {
   "cell_type": "code",
   "execution_count": 29,
   "id": "15a0b210",
   "metadata": {},
   "outputs": [
    {
     "data": {
      "text/plain": [
       "'abcdefghijklmnopqrstuvwxyz'"
      ]
     },
     "execution_count": 29,
     "metadata": {},
     "output_type": "execute_result"
    }
   ],
   "source": [
    "string.ascii_lowercase"
   ]
  },
  {
   "cell_type": "code",
   "execution_count": 30,
   "id": "eef702af",
   "metadata": {},
   "outputs": [
    {
     "data": {
      "text/plain": [
       "'ABCDEFGHIJKLMNOPQRSTUVWXYZ'"
      ]
     },
     "execution_count": 30,
     "metadata": {},
     "output_type": "execute_result"
    }
   ],
   "source": [
    "string.ascii_uppercase"
   ]
  },
  {
   "cell_type": "markdown",
   "id": "456d4999",
   "metadata": {},
   "source": [
    "# 3.Funcion Print"
   ]
  },
  {
   "cell_type": "code",
   "execution_count": 33,
   "id": "21b9368b",
   "metadata": {},
   "outputs": [
    {
     "name": "stdout",
     "output_type": "stream",
     "text": [
      "5\n"
     ]
    }
   ],
   "source": [
    "print(string1)"
   ]
  },
  {
   "cell_type": "code",
   "execution_count": 36,
   "id": "3d6d0f9c",
   "metadata": {},
   "outputs": [
    {
     "name": "stdout",
     "output_type": "stream",
     "text": [
      "<class 'str'>\n"
     ]
    }
   ],
   "source": [
    "print(type(string1))"
   ]
  },
  {
   "cell_type": "code",
   "execution_count": 38,
   "id": "bcbccf9a",
   "metadata": {},
   "outputs": [
    {
     "name": "stdout",
     "output_type": "stream",
     "text": [
      "<class 'int'>\n"
     ]
    }
   ],
   "source": [
    "print(type(5))"
   ]
  },
  {
   "cell_type": "code",
   "execution_count": 43,
   "id": "6d28a86a",
   "metadata": {},
   "outputs": [
    {
     "name": "stdout",
     "output_type": "stream",
     "text": [
      "Mi nombre es: Imanol\n",
      "Mi nombre es: Imanol\n"
     ]
    }
   ],
   "source": [
    "print(\"Mi nombre es:\", nombre)\n",
    "print(f\"Mi nombre es: {nombre}\")"
   ]
  },
  {
   "cell_type": "code",
   "execution_count": 44,
   "id": "59036455",
   "metadata": {},
   "outputs": [
    {
     "name": "stdout",
     "output_type": "stream",
     "text": [
      "Los datos del curson son: \n",
      "Curso: Topicos Especiales en Inteligencia de Negocios \n",
      "Ciclo:Sexto \n",
      "Tipo: Electivo\n"
     ]
    }
   ],
   "source": [
    "print(\"Los datos del curson son: \\nCurso: Topicos Especiales en Inteligencia de Negocios \\nCiclo:Sexto \\nTipo: Electivo\")"
   ]
  },
  {
   "cell_type": "markdown",
   "id": "88caa269",
   "metadata": {},
   "source": [
    "# 4.Booleanos y Condicionales"
   ]
  },
  {
   "cell_type": "code",
   "execution_count": 45,
   "id": "a87c88fd",
   "metadata": {},
   "outputs": [
    {
     "name": "stdout",
     "output_type": "stream",
     "text": [
      "<class 'bool'>\n"
     ]
    }
   ],
   "source": [
    "final_page = True\n",
    "print(type(final_page))"
   ]
  },
  {
   "cell_type": "code",
   "execution_count": null,
   "id": "e6fd3b98",
   "metadata": {},
   "outputs": [
    {
     "name": "stdout",
     "output_type": "stream",
     "text": [
      "Final de la Página\n"
     ]
    }
   ],
   "source": [
    "if final_page == True:\n",
    "    print(\"Final de la Página\")\n",
    "else:\n",
    "    print(\"No es el final de la página\")"
   ]
  },
  {
   "cell_type": "code",
   "execution_count": 47,
   "id": "2b73f5e0",
   "metadata": {},
   "outputs": [
    {
     "data": {
      "text/plain": [
       "False"
      ]
     },
     "execution_count": 47,
     "metadata": {},
     "output_type": "execute_result"
    }
   ],
   "source": [
    "# Operadores Logicos\n",
    "not True"
   ]
  },
  {
   "cell_type": "code",
   "execution_count": 48,
   "id": "abafcb0c",
   "metadata": {},
   "outputs": [
    {
     "data": {
      "text/plain": [
       "True"
      ]
     },
     "execution_count": 48,
     "metadata": {},
     "output_type": "execute_result"
    }
   ],
   "source": [
    "not False"
   ]
  },
  {
   "cell_type": "code",
   "execution_count": 49,
   "id": "18b169a4",
   "metadata": {},
   "outputs": [
    {
     "data": {
      "text/plain": [
       "True"
      ]
     },
     "execution_count": 49,
     "metadata": {},
     "output_type": "execute_result"
    }
   ],
   "source": [
    "True and True"
   ]
  },
  {
   "cell_type": "code",
   "execution_count": 50,
   "id": "4fec0399",
   "metadata": {},
   "outputs": [
    {
     "data": {
      "text/plain": [
       "False"
      ]
     },
     "execution_count": 50,
     "metadata": {},
     "output_type": "execute_result"
    }
   ],
   "source": [
    "True and False"
   ]
  },
  {
   "cell_type": "code",
   "execution_count": 51,
   "id": "fc58a1b3",
   "metadata": {},
   "outputs": [
    {
     "data": {
      "text/plain": [
       "True"
      ]
     },
     "execution_count": 51,
     "metadata": {},
     "output_type": "execute_result"
    }
   ],
   "source": [
    "True or False"
   ]
  },
  {
   "cell_type": "code",
   "execution_count": 52,
   "id": "40b278a9",
   "metadata": {},
   "outputs": [
    {
     "ename": "TypeError",
     "evalue": "'<' not supported between instances of 'int' and 'str'",
     "output_type": "error",
     "traceback": [
      "\u001b[31m---------------------------------------------------------------------------\u001b[39m",
      "\u001b[31mTypeError\u001b[39m                                 Traceback (most recent call last)",
      "\u001b[36mCell\u001b[39m\u001b[36m \u001b[39m\u001b[32mIn[52]\u001b[39m\u001b[32m, line 2\u001b[39m\n\u001b[32m      1\u001b[39m \u001b[38;5;66;03m# Comparaciones\u001b[39;00m\n\u001b[32m----> \u001b[39m\u001b[32m2\u001b[39m \u001b[32;43m1\u001b[39;49m\u001b[43m<\u001b[49m\u001b[43m \u001b[49m\u001b[33;43m\"\u001b[39;49m\u001b[33;43muno\u001b[39;49m\u001b[33;43m\"\u001b[39;49m\n",
      "\u001b[31mTypeError\u001b[39m: '<' not supported between instances of 'int' and 'str'"
     ]
    }
   ],
   "source": [
    "# Comparaciones\n",
    "1< \"uno\""
   ]
  },
  {
   "cell_type": "markdown",
   "id": "a9131fab",
   "metadata": {},
   "source": [
    "# 5.Loops"
   ]
  },
  {
   "cell_type": "code",
   "execution_count": 53,
   "id": "d0ff519d",
   "metadata": {},
   "outputs": [
    {
     "name": "stdout",
     "output_type": "stream",
     "text": [
      "H\n",
      "o\n",
      "l\n",
      "a\n",
      " \n",
      "M\n",
      "u\n",
      "n\n",
      "d\n",
      "o\n"
     ]
    }
   ],
   "source": [
    "for letra in \"Hola Mundo\":\n",
    "    print(letra)"
   ]
  },
  {
   "cell_type": "code",
   "execution_count": 54,
   "id": "8cd28ef9",
   "metadata": {},
   "outputs": [
    {
     "name": "stdout",
     "output_type": "stream",
     "text": [
      "Palabras: ['Hola', 'a', 'Todos']\n"
     ]
    }
   ],
   "source": [
    "my_string = \"Hola a Todos\"\n",
    "palabras=my_string.split()\n",
    "print(f\"Palabras: {palabras}\")"
   ]
  },
  {
   "cell_type": "code",
   "execution_count": 55,
   "id": "9ed7a551",
   "metadata": {},
   "outputs": [
    {
     "name": "stdout",
     "output_type": "stream",
     "text": [
      "Hola\n",
      "a\n",
      "Todos\n"
     ]
    }
   ],
   "source": [
    "for palabra in palabras:\n",
    "    print(palabra)"
   ]
  },
  {
   "cell_type": "code",
   "execution_count": 56,
   "id": "b86ab451",
   "metadata": {},
   "outputs": [
    {
     "name": "stdout",
     "output_type": "stream",
     "text": [
      "0 Hola\n",
      "1 a\n",
      "2 Todos\n"
     ]
    }
   ],
   "source": [
    "for idx, palabra in enumerate(palabras):\n",
    "    print(idx, palabra)"
   ]
  },
  {
   "cell_type": "code",
   "execution_count": 57,
   "id": "4f56946d",
   "metadata": {},
   "outputs": [
    {
     "name": "stdout",
     "output_type": "stream",
     "text": [
      "1 Hola\n",
      "2 a\n",
      "3 Todos\n"
     ]
    }
   ],
   "source": [
    "for idx, palabra in enumerate(palabras,1):\n",
    "    print(idx, palabra)"
   ]
  },
  {
   "cell_type": "code",
   "execution_count": 58,
   "id": "43e78e9a",
   "metadata": {},
   "outputs": [
    {
     "name": "stdout",
     "output_type": "stream",
     "text": [
      "Intento Nro: 1\n",
      "Intento Nro: 2\n",
      "Intento Nro: 3\n",
      "Intento Nro: 4\n",
      "Intento Nro: 5\n",
      "Intento Nro: 6\n",
      "Intento Nro: 7\n",
      "Intento Nro: 8\n",
      "Intento Nro: 9\n",
      "Intento Nro: 10\n"
     ]
    }
   ],
   "source": [
    "# Trabajando con while loops\n",
    "max_intentos=10\n",
    "intento=1\n",
    "while intento <= max_intentos:\n",
    "    print(f\"Intento Nro: {intento}\")\n",
    "    intento+=1"
   ]
  },
  {
   "cell_type": "markdown",
   "id": "e30bf393",
   "metadata": {},
   "source": [
    "# 6.Funciones"
   ]
  },
  {
   "cell_type": "code",
   "execution_count": 59,
   "id": "248b45f8",
   "metadata": {},
   "outputs": [
    {
     "name": "stdout",
     "output_type": "stream",
     "text": [
      "Ya me voy\n"
     ]
    }
   ],
   "source": [
    "print(\"Ya me voy\")"
   ]
  },
  {
   "cell_type": "code",
   "execution_count": 61,
   "id": "56c8056b",
   "metadata": {},
   "outputs": [
    {
     "data": {
      "text/plain": [
       "15"
      ]
     },
     "execution_count": 61,
     "metadata": {},
     "output_type": "execute_result"
    }
   ],
   "source": [
    "len(\"Aprbar el Curso\")"
   ]
  },
  {
   "cell_type": "code",
   "execution_count": 62,
   "id": "f9b042ae",
   "metadata": {},
   "outputs": [],
   "source": [
    "# Más Funciones\n",
    "def saludar():\n",
    "    print(\"Hola\")"
   ]
  },
  {
   "cell_type": "code",
   "execution_count": 63,
   "id": "991767ad",
   "metadata": {},
   "outputs": [
    {
     "name": "stdout",
     "output_type": "stream",
     "text": [
      "Hola\n"
     ]
    }
   ],
   "source": [
    "saludar()"
   ]
  },
  {
   "cell_type": "code",
   "execution_count": 70,
   "id": "6543d42a",
   "metadata": {},
   "outputs": [],
   "source": [
    "def saluda(nombre):\n",
    "    print(f\"Hola,{nombre}\")"
   ]
  },
  {
   "cell_type": "code",
   "execution_count": 71,
   "id": "fd2f8041",
   "metadata": {},
   "outputs": [
    {
     "name": "stdout",
     "output_type": "stream",
     "text": [
      "Hola,Juan Perez\n"
     ]
    }
   ],
   "source": [
    "saluda(\"Juan Perez\")"
   ]
  },
  {
   "cell_type": "code",
   "execution_count": 68,
   "id": "187bae0d",
   "metadata": {},
   "outputs": [],
   "source": [
    "def bienvenido(nombre,lugar):\n",
    "    print(f\"Bienvenido,{nombre}\")\n",
    "    print(f\"LLegaste a {lugar}\")\n"
   ]
  },
  {
   "cell_type": "code",
   "execution_count": 69,
   "id": "24f20984",
   "metadata": {},
   "outputs": [
    {
     "name": "stdout",
     "output_type": "stream",
     "text": [
      "Bienvenido,Imanol\n",
      "LLegaste a Cusco\n"
     ]
    }
   ],
   "source": [
    "bienvenido(\"Imanol\", \"Cusco\")"
   ]
  },
  {
   "cell_type": "code",
   "execution_count": 72,
   "id": "54adbbed",
   "metadata": {},
   "outputs": [],
   "source": [
    "# Funcion que retorne un valor\n",
    "def suma(a,b):\n",
    "    return a+b"
   ]
  },
  {
   "cell_type": "code",
   "execution_count": 73,
   "id": "9705bb0c",
   "metadata": {},
   "outputs": [
    {
     "name": "stdout",
     "output_type": "stream",
     "text": [
      "El resultado de la suma es: 16\n"
     ]
    }
   ],
   "source": [
    "resul = suma(9,7)\n",
    "print(f\"El resultado de la suma es: {resul}\")"
   ]
  },
  {
   "cell_type": "code",
   "execution_count": 76,
   "id": "d840e2f6",
   "metadata": {},
   "outputs": [
    {
     "name": "stdout",
     "output_type": "stream",
     "text": [
      "El resultado es par\n"
     ]
    }
   ],
   "source": [
    "# Reutilizando una funcion en una condicion\n",
    "if suma(9,7) %2==0:\n",
    "    print(\"El resultado es par\")\n",
    "else:\n",
    "    print(\"El resultado es impar\")"
   ]
  },
  {
   "cell_type": "code",
   "execution_count": 77,
   "id": "cb9634a6",
   "metadata": {},
   "outputs": [
    {
     "ename": "NameError",
     "evalue": "name 'nose' is not defined",
     "output_type": "error",
     "traceback": [
      "\u001b[31m---------------------------------------------------------------------------\u001b[39m",
      "\u001b[31mNameError\u001b[39m                                 Traceback (most recent call last)",
      "\u001b[36mCell\u001b[39m\u001b[36m \u001b[39m\u001b[32mIn[77]\u001b[39m\u001b[32m, line 1\u001b[39m\n\u001b[32m----> \u001b[39m\u001b[32m1\u001b[39m \u001b[38;5;28mprint\u001b[39m(\u001b[43mnose\u001b[49m)\n",
      "\u001b[31mNameError\u001b[39m: name 'nose' is not defined"
     ]
    }
   ],
   "source": [
    "print(nose)"
   ]
  },
  {
   "cell_type": "markdown",
   "id": "9b601370",
   "metadata": {},
   "source": [
    "# 7.Otros\n",
    "\n",
    "-Manejo Excepciones\n",
    "-Intrucciones: Pass, Continue, Break"
   ]
  },
  {
   "cell_type": "code",
   "execution_count": 78,
   "id": "f21eef51",
   "metadata": {},
   "outputs": [
    {
     "ename": "NameError",
     "evalue": "name 'Text' is not defined",
     "output_type": "error",
     "traceback": [
      "\u001b[31m---------------------------------------------------------------------------\u001b[39m",
      "\u001b[31mNameError\u001b[39m                                 Traceback (most recent call last)",
      "\u001b[36mCell\u001b[39m\u001b[36m \u001b[39m\u001b[32mIn[78]\u001b[39m\u001b[32m, line 3\u001b[39m\n\u001b[32m      1\u001b[39m \u001b[38;5;66;03m#NameError\u001b[39;00m\n\u001b[32m----> \u001b[39m\u001b[32m3\u001b[39m \u001b[38;5;28mprint\u001b[39m(\u001b[43mText\u001b[49m)\n",
      "\u001b[31mNameError\u001b[39m: name 'Text' is not defined"
     ]
    }
   ],
   "source": [
    "#NameError\n",
    "\n",
    "print(Text)"
   ]
  },
  {
   "cell_type": "code",
   "execution_count": null,
   "id": "d2a94dd6",
   "metadata": {},
   "outputs": [
    {
     "name": "stdout",
     "output_type": "stream",
     "text": [
      "Esto es un error de NameError:\n"
     ]
    }
   ],
   "source": [
    "try:\n",
    "    print(Text)\n",
    "except NameError as e:\n",
    "    print(\"Esto es un error de NameError\")"
   ]
  },
  {
   "cell_type": "code",
   "execution_count": 82,
   "id": "306995f7",
   "metadata": {},
   "outputs": [
    {
     "ename": "KeyError",
     "evalue": "'Apellido'",
     "output_type": "error",
     "traceback": [
      "\u001b[31m---------------------------------------------------------------------------\u001b[39m",
      "\u001b[31mKeyError\u001b[39m                                  Traceback (most recent call last)",
      "\u001b[36mCell\u001b[39m\u001b[36m \u001b[39m\u001b[32mIn[82]\u001b[39m\u001b[32m, line 3\u001b[39m\n\u001b[32m      1\u001b[39m \u001b[38;5;66;03m#Errores Comunes KeyError\u001b[39;00m\n\u001b[32m      2\u001b[39m dict_alumno = {\u001b[33m\"\u001b[39m\u001b[33mNombre\u001b[39m\u001b[33m\"\u001b[39m:\u001b[33m\"\u001b[39m\u001b[33mImanol\u001b[39m\u001b[33m\"\u001b[39m}\n\u001b[32m----> \u001b[39m\u001b[32m3\u001b[39m \u001b[43mdict_alumno\u001b[49m\u001b[43m[\u001b[49m\u001b[33;43m\"\u001b[39;49m\u001b[33;43mApellido\u001b[39;49m\u001b[33;43m\"\u001b[39;49m\u001b[43m]\u001b[49m\n",
      "\u001b[31mKeyError\u001b[39m: 'Apellido'"
     ]
    }
   ],
   "source": [
    "#Errores Comunes KeyError\n",
    "dict_alumno = {\"Nombre\":\"Imanol\"}\n",
    "dict_alumno[\"Apellido\"]"
   ]
  },
  {
   "cell_type": "code",
   "execution_count": 83,
   "id": "4d38af0d",
   "metadata": {},
   "outputs": [
    {
     "name": "stdout",
     "output_type": "stream",
     "text": [
      "Esto es un error de KeyError\n"
     ]
    }
   ],
   "source": [
    "try:\n",
    "    dict_alumno[\"Apellido\"]\n",
    "except KeyError as e:\n",
    "    print(\"Esto es un error de KeyError\")"
   ]
  },
  {
   "cell_type": "code",
   "execution_count": 84,
   "id": "88fbdb0b",
   "metadata": {},
   "outputs": [
    {
     "ename": "IndexError",
     "evalue": "list index out of range",
     "output_type": "error",
     "traceback": [
      "\u001b[31m---------------------------------------------------------------------------\u001b[39m",
      "\u001b[31mIndexError\u001b[39m                                Traceback (most recent call last)",
      "\u001b[36mCell\u001b[39m\u001b[36m \u001b[39m\u001b[32mIn[84]\u001b[39m\u001b[32m, line 3\u001b[39m\n\u001b[32m      1\u001b[39m \u001b[38;5;66;03m# Errores al Indexar: IndexError\u001b[39;00m\n\u001b[32m      2\u001b[39m lista = [\u001b[32m1\u001b[39m,\u001b[32m2\u001b[39m,\u001b[32m3\u001b[39m]\n\u001b[32m----> \u001b[39m\u001b[32m3\u001b[39m \u001b[43mlista\u001b[49m\u001b[43m[\u001b[49m\u001b[32;43m7\u001b[39;49m\u001b[43m]\u001b[49m\n",
      "\u001b[31mIndexError\u001b[39m: list index out of range"
     ]
    }
   ],
   "source": [
    "# Errores al Indexar: IndexError\n",
    "lista = [1,2,3]\n",
    "lista[7]"
   ]
  },
  {
   "cell_type": "code",
   "execution_count": 85,
   "id": "be3f1c49",
   "metadata": {},
   "outputs": [
    {
     "name": "stdout",
     "output_type": "stream",
     "text": [
      "Esto es un error de IndexError\n"
     ]
    }
   ],
   "source": [
    "try:\n",
    "    lista[7]\n",
    "except IndexError as e:\n",
    "    print(\"Esto es un error de IndexError\")"
   ]
  },
  {
   "cell_type": "code",
   "execution_count": 86,
   "id": "03a0a43e",
   "metadata": {},
   "outputs": [],
   "source": [
    "# Funcion para detectar Errores\n",
    "def get_cociente(x, y):\n",
    "    try:\n",
    "        return x // y   \n",
    "    except ZeroDivisionError:\n",
    "        return \"No se puede dividir por cero\"\n",
    "    except TypeError:\n",
    "        return \"Los valores deben ser numéricos\""
   ]
  }
 ],
 "metadata": {
  "kernelspec": {
   "display_name": "my",
   "language": "python",
   "name": "python3"
  },
  "language_info": {
   "codemirror_mode": {
    "name": "ipython",
    "version": 3
   },
   "file_extension": ".py",
   "mimetype": "text/x-python",
   "name": "python",
   "nbconvert_exporter": "python",
   "pygments_lexer": "ipython3",
   "version": "3.13.7"
  }
 },
 "nbformat": 4,
 "nbformat_minor": 5
}
