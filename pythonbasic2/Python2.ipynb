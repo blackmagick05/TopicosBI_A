{
 "cells": [
  {
   "cell_type": "markdown",
   "id": "2c56829c",
   "metadata": {},
   "source": [
    "# Python Using Pandas and for Numpy Big Data\n",
    "\n",
    "Instalar las librerias Pandas, Numpy para tarbajara con datos masivos\n"
   ]
  }
 ],
 "metadata": {
  "language_info": {
   "name": "python"
  }
 },
 "nbformat": 4,
 "nbformat_minor": 5
}
